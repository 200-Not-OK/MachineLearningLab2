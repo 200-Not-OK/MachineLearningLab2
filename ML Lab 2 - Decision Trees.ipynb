{
 "cells": [
  {
   "cell_type": "markdown",
   "id": "db718c7a-1db4-480f-8df6-4e891292e557",
   "metadata": {},
   "source": [
    "# ML Lab 2 - Decision Trees"
   ]
  },
  {
   "cell_type": "markdown",
   "id": "81f4ebbf-8164-4e4a-bf8a-72dbc30c6218",
   "metadata": {},
   "source": [
    "## Important: Autograder"
   ]
  },
  {
   "cell_type": "markdown",
   "id": "73f05ed5-4972-45d3-bea1-3acb8a606982",
   "metadata": {},
   "source": [
    "This lab will be automarked, thus failure to follow instructions will result in a mark of zero. Only the cells with the comment `# STUDENT CODE` will be used by the autograder. These cells have custom metadata, so if you delete and re-add them or add new cells with the comment `# STUDENT CODE` they will not be recognised by the autograder. If you accidentally delete a `# STUDENT CODE` cell then you must redownload the notebook and copy your answers across.\n",
    "\n",
    "You may add extra code cells for your own use, but they will not be run by the autograder. \n",
    "\n",
    "Public test cases are given to test your code, but the autograder will use an unseen dataset to determine the correctness of your code and determine your mark. If you hack your code to just work on the provided test cases you will recieve zero."
   ]
  },
  {
   "cell_type": "markdown",
   "id": "8764470e-a832-4cc1-a87e-a0b6fe755547",
   "metadata": {},
   "source": [
    "## Student Details"
   ]
  },
  {
   "cell_type": "markdown",
   "id": "7e1d9bd8-c9c7-480c-a33c-e257605dc1d0",
   "metadata": {},
   "source": [
    "Fill in your names and student numbers in the fields below. This is used for the automarker, so if you do this incorrectly **you will recieve zero** as your submission will not be recognised.\n",
    "\n",
    "**Note:** `student_names[0]` should correspond to the same student as `student_nos[0]` and similarly for the other students indicated."
   ]
  },
  {
   "cell_type": "code",
   "execution_count": 1,
   "id": "afd431b4-15e7-41a2-962d-176c73679f44",
   "metadata": {
    "autograder_id": "student_info"
   },
   "outputs": [],
   "source": [
    "# STUDENT CODE: Student Info\n",
    "student_names = [\"Muhammad Hoosen\", \"Rameez Atif\", \"Sufyaan Mahomed\"]  # List of strings containing student names\n",
    "student_nos = [\"2552770\", \"2612521\", \"2564009\"]  # List of strings containing student nos\n",
    "\n",
    "assert len(student_names) == len(student_nos)"
   ]
  },
  {
   "cell_type": "markdown",
   "id": "3937a219-bf55-4560-ad02-45c4358f7f04",
   "metadata": {},
   "source": [
    "## Imports & Helper Functions"
   ]
  },
  {
   "cell_type": "code",
   "execution_count": 3,
   "id": "59bcf1ff-b4d4-4f13-ac8c-7479673df3ee",
   "metadata": {},
   "outputs": [
    {
     "name": "stderr",
     "output_type": "stream",
     "text": [
      "Matplotlib is building the font cache; this may take a moment.\n"
     ]
    }
   ],
   "source": [
    "import pandas as pd\n",
    "import numpy as np\n",
    "import pprint\n",
    "\n",
    "import matplotlib.pyplot as plt\n",
    "import matplotlib.patches as patches"
   ]
  },
  {
   "cell_type": "markdown",
   "id": "9f42a465-be08-407b-91b5-cb6fcec8ce1e",
   "metadata": {},
   "source": [
    "#### Visualise Tree Helper Function\n",
    "Below is a helper function for visualising a decision tree for Q4. Ignore the arguments `node_position`, `x_range` and `y_range`. "
   ]
  },
  {
   "cell_type": "code",
   "execution_count": 12,
   "id": "3f714ea6-c341-46bc-b39b-3d150e19d8ab",
   "metadata": {},
   "outputs": [],
   "source": [
    "def visualise_tree(tree, node_position=(0.5, 0.9), x_range=(0, 1), y_range=(0, 1), ax=None):\n",
    "    \"\"\"\n",
    "    Visualizes the decision tree using matplotlib.\n",
    "\n",
    "    Args:\n",
    "        tree (dict): The decision tree.\n",
    "        node_position (tuple): The position of the current node.\n",
    "        x_range (tuple): The x-axis range for the current subtree.\n",
    "        y_range (tuple): The y-axis range for the current subtree.\n",
    "        ax (matplotlib.axes.Axes): The axes object to draw on.\n",
    "\n",
    "    Returns:\n",
    "        tuple: (fig, ax) tuple, where fig is the figure and ax is the axes object.\n",
    "    \"\"\"\n",
    "    if ax is None:\n",
    "        fig, ax = plt.subplots(figsize=(10, 8))\n",
    "        ax.axis('off')\n",
    "    else:\n",
    "        fig = ax.get_figure()\n",
    "\n",
    "    node_text = list(tree.keys())[0]\n",
    "    ax.text(node_position[0], node_position[1], node_text, ha='center', va='center', bbox=dict(facecolor='white', edgecolor='black'))\n",
    "\n",
    "    if isinstance(tree[node_text], dict):\n",
    "        num_children = len(tree[node_text])\n",
    "        child_x_positions = np.linspace(x_range[0], x_range[1], num_children + 2)[1:-1]\n",
    "        child_y_position = node_position[1]  - (y_range[1] - y_range[0]) * 0.2\n",
    "        # child_y_range = (y_range[0], child_y_position)\n",
    "        child_y_range = (y_range[0], child_y_position)\n",
    "\n",
    "        child_index = 0\n",
    "        for child_value, child_subtree in tree[node_text].items():\n",
    "            child_x_position = child_x_positions[child_index]\n",
    "\n",
    "            # Draw connection line\n",
    "            # ax.plot([node_position[0], child_x_position], [node_position[1] - 0.05, child_y_position + 0.05], 'k-', linewidth=1)\n",
    "            ax.plot([node_position[0], child_x_position], [node_position[1] - 0.01, child_y_position + 0.01], 'k-', linewidth=1)\n",
    "\n",
    "            # Draw child value text\n",
    "            mid_x = (node_position[0] + child_x_position) / 2\n",
    "            mid_y = (node_position[1] + child_y_position) / 2\n",
    "            ax.text(mid_x, mid_y, child_value, ha='center', va='center', rotation=np.degrees(np.arctan2(child_y_position - node_position[1], child_x_position - node_position[0])) , bbox=dict(facecolor='white', edgecolor='none'))\n",
    "\n",
    "            if isinstance(child_subtree, dict):\n",
    "                visualise_tree(child_subtree, (child_x_position, child_y_position), (child_x_positions[child_index] - (x_range[1] - x_range[0]) / (num_children * 2), child_x_positions[child_index] + (x_range[1] - x_range[0]) / (num_children*2)), child_y_range, ax)\n",
    "            else:\n",
    "                ax.text(child_x_position, child_y_position, str(child_subtree), ha='center', va='center', bbox=dict(facecolor='white', edgecolor='black'))\n",
    "\n",
    "            child_index += 1\n",
    "\n",
    "    return fig, ax"
   ]
  },
  {
   "cell_type": "markdown",
   "id": "e908c5f5-2875-40fc-8a5f-cfc0925ba4d7",
   "metadata": {},
   "source": [
    "## Load Data\n",
    "**We will be using the \"play tennis\" dataset we saw in class.** "
   ]
  },
  {
   "cell_type": "code",
   "execution_count": 13,
   "id": "716a0f26-7189-4f23-abff-fa1cbb78794c",
   "metadata": {},
   "outputs": [
    {
     "data": {
      "text/html": [
       "<div>\n",
       "<style scoped>\n",
       "    .dataframe tbody tr th:only-of-type {\n",
       "        vertical-align: middle;\n",
       "    }\n",
       "\n",
       "    .dataframe tbody tr th {\n",
       "        vertical-align: top;\n",
       "    }\n",
       "\n",
       "    .dataframe thead th {\n",
       "        text-align: right;\n",
       "    }\n",
       "</style>\n",
       "<table border=\"1\" class=\"dataframe\">\n",
       "  <thead>\n",
       "    <tr style=\"text-align: right;\">\n",
       "      <th></th>\n",
       "      <th>Outlook</th>\n",
       "      <th>Temperature</th>\n",
       "      <th>Humidity</th>\n",
       "      <th>Wind</th>\n",
       "      <th>PlayTennis</th>\n",
       "    </tr>\n",
       "  </thead>\n",
       "  <tbody>\n",
       "    <tr>\n",
       "      <th>0</th>\n",
       "      <td>Sunny</td>\n",
       "      <td>Hot</td>\n",
       "      <td>High</td>\n",
       "      <td>Weak</td>\n",
       "      <td>No</td>\n",
       "    </tr>\n",
       "    <tr>\n",
       "      <th>1</th>\n",
       "      <td>Sunny</td>\n",
       "      <td>Hot</td>\n",
       "      <td>High</td>\n",
       "      <td>Strong</td>\n",
       "      <td>No</td>\n",
       "    </tr>\n",
       "    <tr>\n",
       "      <th>2</th>\n",
       "      <td>Overcast</td>\n",
       "      <td>Hot</td>\n",
       "      <td>High</td>\n",
       "      <td>Weak</td>\n",
       "      <td>Yes</td>\n",
       "    </tr>\n",
       "    <tr>\n",
       "      <th>3</th>\n",
       "      <td>Rain</td>\n",
       "      <td>Mild</td>\n",
       "      <td>High</td>\n",
       "      <td>Weak</td>\n",
       "      <td>Yes</td>\n",
       "    </tr>\n",
       "    <tr>\n",
       "      <th>4</th>\n",
       "      <td>Rain</td>\n",
       "      <td>Cool</td>\n",
       "      <td>Normal</td>\n",
       "      <td>Weak</td>\n",
       "      <td>Yes</td>\n",
       "    </tr>\n",
       "    <tr>\n",
       "      <th>5</th>\n",
       "      <td>Rain</td>\n",
       "      <td>Cool</td>\n",
       "      <td>Normal</td>\n",
       "      <td>Strong</td>\n",
       "      <td>No</td>\n",
       "    </tr>\n",
       "    <tr>\n",
       "      <th>6</th>\n",
       "      <td>Overcast</td>\n",
       "      <td>Cool</td>\n",
       "      <td>Normal</td>\n",
       "      <td>Strong</td>\n",
       "      <td>Yes</td>\n",
       "    </tr>\n",
       "    <tr>\n",
       "      <th>7</th>\n",
       "      <td>Sunny</td>\n",
       "      <td>Mild</td>\n",
       "      <td>High</td>\n",
       "      <td>Weak</td>\n",
       "      <td>No</td>\n",
       "    </tr>\n",
       "    <tr>\n",
       "      <th>8</th>\n",
       "      <td>Sunny</td>\n",
       "      <td>Cool</td>\n",
       "      <td>Normal</td>\n",
       "      <td>Weak</td>\n",
       "      <td>Yes</td>\n",
       "    </tr>\n",
       "    <tr>\n",
       "      <th>9</th>\n",
       "      <td>Rain</td>\n",
       "      <td>Mild</td>\n",
       "      <td>Normal</td>\n",
       "      <td>Weak</td>\n",
       "      <td>Yes</td>\n",
       "    </tr>\n",
       "    <tr>\n",
       "      <th>10</th>\n",
       "      <td>Sunny</td>\n",
       "      <td>Mild</td>\n",
       "      <td>Normal</td>\n",
       "      <td>Strong</td>\n",
       "      <td>Yes</td>\n",
       "    </tr>\n",
       "    <tr>\n",
       "      <th>11</th>\n",
       "      <td>Overcast</td>\n",
       "      <td>Mild</td>\n",
       "      <td>High</td>\n",
       "      <td>Strong</td>\n",
       "      <td>Yes</td>\n",
       "    </tr>\n",
       "    <tr>\n",
       "      <th>12</th>\n",
       "      <td>Overcast</td>\n",
       "      <td>Hot</td>\n",
       "      <td>Normal</td>\n",
       "      <td>Weak</td>\n",
       "      <td>Yes</td>\n",
       "    </tr>\n",
       "    <tr>\n",
       "      <th>13</th>\n",
       "      <td>Rain</td>\n",
       "      <td>Mild</td>\n",
       "      <td>High</td>\n",
       "      <td>Strong</td>\n",
       "      <td>No</td>\n",
       "    </tr>\n",
       "  </tbody>\n",
       "</table>\n",
       "</div>"
      ],
      "text/plain": [
       "     Outlook Temperature Humidity    Wind PlayTennis\n",
       "0      Sunny         Hot     High    Weak         No\n",
       "1      Sunny         Hot     High  Strong         No\n",
       "2   Overcast         Hot     High    Weak        Yes\n",
       "3       Rain        Mild     High    Weak        Yes\n",
       "4       Rain        Cool   Normal    Weak        Yes\n",
       "5       Rain        Cool   Normal  Strong         No\n",
       "6   Overcast        Cool   Normal  Strong        Yes\n",
       "7      Sunny        Mild     High    Weak         No\n",
       "8      Sunny        Cool   Normal    Weak        Yes\n",
       "9       Rain        Mild   Normal    Weak        Yes\n",
       "10     Sunny        Mild   Normal  Strong        Yes\n",
       "11  Overcast        Mild     High  Strong        Yes\n",
       "12  Overcast         Hot   Normal    Weak        Yes\n",
       "13      Rain        Mild     High  Strong         No"
      ]
     },
     "execution_count": 13,
     "metadata": {},
     "output_type": "execute_result"
    }
   ],
   "source": [
    "tennis_df = pd.read_csv(\"playtennis.csv\")\n",
    "tennis_df"
   ]
  },
  {
   "cell_type": "markdown",
   "id": "ac716ca4-88f2-49fc-b982-27a1a0e38ddc",
   "metadata": {},
   "source": [
    "## Question 1\n",
    "Implement the `calc_entropy` function with takes as input a panda series consisting of the relevant `PlayTennis` labels and outputs the corresponding entropy (represented as a float) as calculated using the equation in the notes."
   ]
  },
  {
   "cell_type": "code",
   "execution_count": 14,
   "id": "835b804e-f8e4-422b-a377-de1c1855543c",
   "metadata": {
    "autograder": {},
    "autograder_id": "q1"
   },
   "outputs": [],
   "source": [
    "# STUDENT CODE: Q1\n",
    "# This cell should not contain any code outside this function and should not use any global variables\n",
    "def calc_entropy(labels):\n",
    "    \"\"\"\n",
    "    Calculates the entropy of a given set of labels.\n",
    "\n",
    "    Args:\n",
    "        labels (pd.Series): A pandas Series consisting of the relevant PlayTennis labels.\n",
    "\n",
    "    Returns:\n",
    "        float: The corresponding entropy.\n",
    "    \"\"\"\n",
    "    assert type(labels) == pd.Series, f\"labels is of the wrong type type(labels)=={type(labels)}\"\n",
    "    count = labels.value_counts()\n",
    "    probability = count/len(labels)\n",
    "    entropy = -sum(probability*np.log2(probability))\n",
    "    # TODO\n",
    "    return entropy"
   ]
  },
  {
   "cell_type": "code",
   "execution_count": 15,
   "id": "05ebefb5-d27d-44c1-b793-3ca9cddd2289",
   "metadata": {},
   "outputs": [
    {
     "name": "stdout",
     "output_type": "stream",
     "text": [
      "H(D) = 0.9402859586706311\n"
     ]
    }
   ],
   "source": [
    "# Run this to check result\n",
    "print(f\"H(D) = {calc_entropy(tennis_df['PlayTennis'])}\")"
   ]
  },
  {
   "cell_type": "markdown",
   "id": "9ed7dc90-ea30-400a-ac22-ed4f0e607730",
   "metadata": {},
   "source": [
    "**Public Test Case: Q1**"
   ]
  },
  {
   "cell_type": "code",
   "execution_count": 16,
   "id": "f2fb8537-b53a-4cdc-9fe9-c7695d3b0c19",
   "metadata": {},
   "outputs": [
    {
     "name": "stdout",
     "output_type": "stream",
     "text": [
      "Public Test Case: Q1 - PASSED\n"
     ]
    }
   ],
   "source": [
    "q1_ans = calc_entropy(tennis_df['PlayTennis'])\n",
    "if not isinstance(q1_ans, float):\n",
    "    print(f\"Public Test Case: Q1 - FAILED: Wrong type\")\n",
    "elif np.round(q1_ans, 3) != 0.94:\n",
    "    print(f\"Public Test Case: Q1 - FAILED: Incorrect value\")\n",
    "else:\n",
    "    print(f\"Public Test Case: Q1 - PASSED\")"
   ]
  },
  {
   "cell_type": "markdown",
   "id": "b2324eab-c08a-4ca5-9702-67e152f5ddb1",
   "metadata": {},
   "source": [
    "## Question 2\n",
    "Here you will implement $Gain(H, F)$.\n",
    "\n",
    "Implement the `calc_information_gain` function, which takes as input:\n",
    "- `data`: the dataset (or subset of the dataset) represented as a Pandas dataframe\n",
    "- `feature`: the feature variable\n",
    "- `target`: the name of the target variable - i.e. \"PlayTennis\"\n",
    "\n",
    "and outputs the information gain obtained when splitting the data off the given feature. Use the entropy function you implemented previously. "
   ]
  },
  {
   "cell_type": "code",
   "execution_count": 17,
   "id": "a3605427-808d-4745-b324-188ce335a69b",
   "metadata": {
    "autograder": {},
    "autograder_id": "q2",
    "editable": true,
    "slideshow": {
     "slide_type": ""
    },
    "tags": []
   },
   "outputs": [],
   "source": [
    "# STUDENT CODE: Q2\n",
    "# This cell should not contain any code outside this function and should not use any global variables\n",
    "def calc_information_gain(\n",
    "    data, \n",
    "    feature, \n",
    "    target\n",
    "):\n",
    "    \"\"\"\n",
    "    Calculates the information gain obtained by splitting the data based on the given feature.\n",
    "\n",
    "    Args:\n",
    "        data (pandas.DataFrame): The dataset (or subset) represented as a Pandas DataFrame.\n",
    "        feature (str): The name of the feature variable to split on.\n",
    "        target (str): The name of the target variable.\n",
    "\n",
    "    Returns:\n",
    "        float: The information gain obtained when splitting the data based on the given feature.\n",
    "    \"\"\"\n",
    "    main_entropy = calc_entropy(data[target])\n",
    "    feature_values = data[feature].unique()\n",
    "    weighted_entropy = 0\n",
    "    for value in feature_values:\n",
    "        subset = data[data[feature] == value]\n",
    "        entropy = calc_entropy(subset[target])\n",
    "        weighted_entropy += len(subset)/len(data)*entropy\n",
    "    gain = main_entropy - weighted_entropy\n",
    "    # TODO\n",
    "\n",
    "    # NOTE: You MUST recalc Gain(data) each time within this function\n",
    "    \n",
    "    return gain"
   ]
  },
  {
   "cell_type": "code",
   "execution_count": 18,
   "id": "0df65425-0901-46c0-98a4-ee9c1fad707b",
   "metadata": {},
   "outputs": [
    {
     "name": "stdout",
     "output_type": "stream",
     "text": [
      "Gain(D, Outlook) = 0.24674981977443933\n"
     ]
    }
   ],
   "source": [
    "# Run this to check result\n",
    "print(f'Gain(D, Outlook) = {calc_information_gain(tennis_df, \"Outlook\", \"PlayTennis\")}')"
   ]
  },
  {
   "cell_type": "markdown",
   "id": "2f827a93-4c51-40dc-ab10-5af8e9266780",
   "metadata": {},
   "source": [
    "**Public Test Case: Q2**"
   ]
  },
  {
   "cell_type": "code",
   "execution_count": 19,
   "id": "9c875b09-72e1-49c5-bd65-9a809fe120dd",
   "metadata": {},
   "outputs": [
    {
     "name": "stdout",
     "output_type": "stream",
     "text": [
      "Public Test Case: Q2 - PASSED\n"
     ]
    }
   ],
   "source": [
    "q2_ans = calc_information_gain(tennis_df, \"Outlook\", \"PlayTennis\")\n",
    "if not isinstance(q2_ans, float):\n",
    "    print(f\"Public Test Case: Q2 - FAILED: Wrong type\")\n",
    "elif np.round(q2_ans, 3) != 0.247:\n",
    "    print(f\"Public Test Case: Q2 - FAILED: Incorrect value\")\n",
    "else:\n",
    "    print(f\"Public Test Case: Q2 - PASSED\")"
   ]
  },
  {
   "cell_type": "markdown",
   "id": "b24e5eab-8f25-4909-a780-84bced125b51",
   "metadata": {},
   "source": [
    "## Question 3"
   ]
  },
  {
   "cell_type": "markdown",
   "id": "9e51134a-2b52-4e1d-a491-a663021952ef",
   "metadata": {},
   "source": [
    "Implement the function `find_best_feature` that returns the name of the feature with the highest information gain. `find_best_feature` takes in as input:\n",
    "- `data`: the dataset (or subset of the dataset) represented as a Pandas dataframe\n",
    "- `target`: the name of the target variable - i.e. \"PlayTennis\"\n"
   ]
  },
  {
   "cell_type": "code",
   "execution_count": 20,
   "id": "098e7b5a-169d-4e82-95f4-497df3a61c43",
   "metadata": {
    "autograder": {},
    "autograder_id": "q3"
   },
   "outputs": [],
   "source": [
    "# STUDENT CODE: Q3\n",
    "# This cell should not contain any code outside this function and should not use any global variables\n",
    "def find_best_feature(data, target):\n",
    "    \"\"\"\n",
    "    Finds the feature with the highest information gain.\n",
    "\n",
    "    Args:\n",
    "        data (pd.DataFrame): The dataset (or subset of the dataset) represented as a Pandas DataFrame.\n",
    "        target (str): The name of the target variable (e.g., \"PlayTennis\").\n",
    "\n",
    "    Returns:\n",
    "        str: The name of the feature with the highest information gain.\n",
    "    \"\"\"\n",
    "    best_feature = None\n",
    "    best_gain = 0\n",
    "    for feature in data.columns:\n",
    "        if feature != target:\n",
    "            gain = calc_information_gain(data, feature, target)\n",
    "            if gain > best_gain:\n",
    "                best_gain = gain\n",
    "                best_feature = feature\n",
    "\n",
    "    return best_feature"
   ]
  },
  {
   "cell_type": "code",
   "execution_count": 21,
   "id": "1d280743-68b3-4ecf-bf08-64c7a6d49bbe",
   "metadata": {},
   "outputs": [
    {
     "name": "stdout",
     "output_type": "stream",
     "text": [
      "Best feature for D is Outlook\n"
     ]
    }
   ],
   "source": [
    "# Run this to check result\n",
    "print(f\"Best feature for D is {find_best_feature(tennis_df, 'PlayTennis')}\")"
   ]
  },
  {
   "cell_type": "markdown",
   "id": "d2055c42-4759-4223-917e-b923fc32761b",
   "metadata": {},
   "source": [
    "**Public Test Case: Q3**"
   ]
  },
  {
   "cell_type": "code",
   "execution_count": 22,
   "id": "03ad5907-6c8f-476b-a42e-785145af6906",
   "metadata": {},
   "outputs": [
    {
     "name": "stdout",
     "output_type": "stream",
     "text": [
      "Public Test Case: Q3 - PASSED\n"
     ]
    }
   ],
   "source": [
    "q3_ans = find_best_feature(tennis_df, 'PlayTennis')\n",
    "if not isinstance(q3_ans, str):\n",
    "    print(f\"Public Test Case: Q3 - FAILED: Wrong type\")\n",
    "elif q3_ans != \"Outlook\":\n",
    "    print(f\"Public Test Case: Q3 - FAILED: Incorrect value\")\n",
    "else:\n",
    "    print(f\"Public Test Case: Q3 - PASSED\")"
   ]
  },
  {
   "cell_type": "markdown",
   "id": "aad33103-ebeb-4b8b-bc3b-a1b6c0bb29f3",
   "metadata": {},
   "source": [
    "## Question 4"
   ]
  },
  {
   "cell_type": "markdown",
   "id": "55503bb4-445f-4d19-af8a-69a0cc526119",
   "metadata": {},
   "source": [
    "Implement the **recursive** function `id3(data, target, features)` that constructs and returns a decision tree according to the ID3 algorithm.\n",
    "\n",
    "The decision tree must be represented as a nested dictionary where:\n",
    "- Keys: Represent feature names or target labels (leaf nodes).\n",
    "- Values: Can be either:\n",
    "    - A nested dictionary representing a subtree (if the key is a feature).\n",
    "    - A target label (if the key is a leaf node).\n",
    "\n",
    "For example the representation of the decision tree shown in the slides would be:\n",
    "```\n",
    "{\n",
    "    'Outlook': {\n",
    "        'Sunny': {\n",
    "            'Humidity': {\n",
    "                'High': 'No',\n",
    "                'Normal': 'Yes'\n",
    "            }\n",
    "        },\n",
    "        'Overcast': 'Yes',\n",
    "        'Rain': {\n",
    "            'Wind': {\n",
    "                'Strong': 'No',\n",
    "                'Weak': 'Yes'\n",
    "            }\n",
    "        }\n",
    "    }\n",
    "}\n",
    "```"
   ]
  },
  {
   "cell_type": "code",
   "execution_count": 29,
   "id": "0effad2d-1676-43e9-8c17-201fadf01a92",
   "metadata": {
    "autograder": {},
    "autograder_id": "q4",
    "editable": true,
    "slideshow": {
     "slide_type": ""
    },
    "tags": []
   },
   "outputs": [],
   "source": [
    "# STUDENT CODE: Q4\n",
    "# This cell should not contain any code outside this function and should not use any global variables\n",
    "def id3(data, target, features):\n",
    "    \"\"\"\n",
    "    Builds a decision tree using the ID3 algorithm.\n",
    "\n",
    "    Args:\n",
    "        data (pd.DataFrame): The dataset.\n",
    "        target (str): The target variable.\n",
    "        features (list): A list of available features.\n",
    "\n",
    "    Returns:\n",
    "        dict: The decision tree.\n",
    "    \"\"\"\n",
    "\n",
    "    # TODO: Implement the ID3 algorithm recursively.\n",
    "    if len(data[target].unique()) == 1:\n",
    "        return data[target].iloc[0]\n",
    "\n",
    "    if not features:\n",
    "        return data[target].mode()[0]\n",
    "\n",
    "    current_data = data[features + [target]]\n",
    "    best_feature = find_best_feature(current_data, target)\n",
    "    \n",
    "\n",
    "    remaining_features = [f for f in features if f != best_feature]\n",
    "\n",
    "    feature_values = data[best_feature].unique()\n",
    "\n",
    "    tree = {best_feature: {}}\n",
    "    for value in feature_values:\n",
    "        subset = data[data[best_feature] == value]\n",
    "        if subset.empty:\n",
    "\n",
    "            tree[best_feature][value] = data[target].mode()[0]\n",
    "        else:\n",
    "\n",
    "            subtree = id3(subset, target, remaining_features)\n",
    "            tree[best_feature][value] = subtree\n",
    "    return tree"
   ]
  },
  {
   "cell_type": "code",
   "execution_count": 30,
   "id": "f280956a-ca20-4472-a87b-f77af4135e32",
   "metadata": {},
   "outputs": [
    {
     "name": "stdout",
     "output_type": "stream",
     "text": [
      "Decision Tree:\n",
      "{'Outlook': {'Sunny': {'Humidity': {'High': 'No', 'Normal': 'Yes'}},\n",
      "             'Overcast': 'Yes',\n",
      "             'Rain': {'Wind': {'Weak': 'Yes', 'Strong': 'No'}}}}\n"
     ]
    },
    {
     "data": {
      "image/png": "[encoded data removed]",
      "text/plain": [
       "<Figure size 1000x800 with 1 Axes>"
      ]
     },
     "metadata": {},
     "output_type": "display_data"
    }
   ],
   "source": [
    "# Run this to check result\n",
    "all_features = [col for col in tennis_df.columns if col != 'PlayTennis']\n",
    "decision_tree = id3(tennis_df, 'PlayTennis', all_features)\n",
    "print(\"Decision Tree:\")\n",
    "pprint.pp(decision_tree)\n",
    "if decision_tree is not None:\n",
    "    visualise_tree(decision_tree) "
   ]
  },
  {
   "cell_type": "markdown",
   "id": "ffd47a2b-ffd5-4e70-9218-72662a599383",
   "metadata": {},
   "source": [
    "**Public Test Case: Q4**"
   ]
  },
  {
   "cell_type": "code",
   "execution_count": 32,
   "id": "fb079dd8-6c9d-4dce-99ce-31a8948b0a68",
   "metadata": {},
   "outputs": [
    {
     "name": "stdout",
     "output_type": "stream",
     "text": [
      "Public Test Case: Q4 - PASSED\n"
     ]
    }
   ],
   "source": [
    "def are_nested_dictionaries_equal(dict1, dict2):\n",
    "    \"\"\"\n",
    "    Recursively checks if two nested dictionaries are equal.\n",
    "\n",
    "    Args:\n",
    "        dict1 (dict): The first dictionary.\n",
    "        dict2 (dict): The second dictionary.\n",
    "\n",
    "    Returns:\n",
    "        bool: True if the dictionaries are equal, False otherwise.\n",
    "    \"\"\"\n",
    "\n",
    "    # Check if the keys are the same\n",
    "    if dict1.keys() != dict2.keys():\n",
    "        return False\n",
    "\n",
    "    # Iterate through the items and compare values\n",
    "    for key, value1 in dict1.items():\n",
    "        value2 = dict2[key]\n",
    "\n",
    "        # If both values are dictionaries, recurse\n",
    "        if isinstance(value1, dict) and isinstance(value2, dict):\n",
    "            if not are_nested_dictionaries_equal(value1, value2):\n",
    "                return False\n",
    "        # Otherwise, compare the values directly\n",
    "        elif value1 != value2:\n",
    "            return False\n",
    "\n",
    "    return True\n",
    "\n",
    "\n",
    "q4_true_ans = {\n",
    "    'Outlook': {\n",
    "        'Sunny': {\n",
    "            'Humidity': {\n",
    "                'High': 'No', \n",
    "                'Normal': 'Yes' \n",
    "            }\n",
    "        },\n",
    "    'Overcast': 'Yes',\n",
    "    'Rain': {\n",
    "        'Wind': {\n",
    "            'Weak': 'Yes', \n",
    "            'Strong': 'No'\n",
    "            }\n",
    "        }\n",
    "    }\n",
    "}\n",
    "\n",
    "q4_ans = id3(tennis_df, 'PlayTennis', all_features)\n",
    "\n",
    "if not isinstance(q4_ans, dict):\n",
    "    print(f\"Public Test Case: Q4 - FAILED: Wrong type\")\n",
    "elif not are_nested_dictionaries_equal(q4_ans, q4_true_ans):\n",
    "    print(f\"Public Test Case: Q4 - FAILED: Incorrect value\")\n",
    "else:\n",
    "    print(f\"Public Test Case: Q4 - PASSED\")"
   ]
  },
  {
   "cell_type": "markdown",
   "id": "468daaf0-2a12-41a9-b8ee-9c2730408195",
   "metadata": {},
   "source": [
    "# END"
   ]
  }
 ],
 "metadata": {
  "kernelspec": {
   "display_name": "Python 3",
   "language": "python",
   "name": "python3"
  },
  "language_info": {
   "codemirror_mode": {
    "name": "ipython",
    "version": 3
   },
   "file_extension": ".py",
   "mimetype": "text/x-python",
   "name": "python",
   "nbconvert_exporter": "python",
   "pygments_lexer": "ipython3",
   "version": "3.12.4"
  }
 },
 "nbformat": 4,
 "nbformat_minor": 5
}
